{
 "cells": [
  {
   "cell_type": "code",
   "execution_count": null,
   "id": "db0318bb-40f0-405a-b0b6-6e1c60af3891",
   "metadata": {},
   "outputs": [],
   "source": [
    "def School_Calculator():\n",
    "    Name = input(\"Enter Student Name:\")\n",
    "    age = (int(input(\"Enter Age of Student\")))\n",
    "    if age >= 5:\n",
    "        print(Name ,\"can join the School\")\n",
    "    elif age > 12:\n",
    "        print(Name , \"Should go to higher School\")\n",
    "    else:\n",
    "        print(Name , \"is Still a Baby\")\n",
    "School_Calculator()"
   ]
  },
  {
   "cell_type": "code",
   "execution_count": null,
   "id": "96f5ec46-0d3f-4c22-9da0-9da04713f2b1",
   "metadata": {},
   "outputs": [],
   "source": []
  }
 ],
 "metadata": {
  "kernelspec": {
   "display_name": "Python 3 (ipykernel)",
   "language": "python",
   "name": "python3"
  },
  "language_info": {
   "codemirror_mode": {
    "name": "ipython",
    "version": 3
   },
   "file_extension": ".py",
   "mimetype": "text/x-python",
   "name": "python",
   "nbconvert_exporter": "python",
   "pygments_lexer": "ipython3",
   "version": "3.11.7"
  }
 },
 "nbformat": 4,
 "nbformat_minor": 5
}
